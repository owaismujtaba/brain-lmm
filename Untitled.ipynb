{
 "cells": [
  {
   "cell_type": "code",
   "execution_count": 1,
   "id": "7827dd1f-ccb3-43fb-82c3-128f88ffc782",
   "metadata": {},
   "outputs": [
    {
     "data": {
      "text/plain": [
       "'/home/owaismujtaba/g2p'"
      ]
     },
     "execution_count": 1,
     "metadata": {},
     "output_type": "execute_result"
    }
   ],
   "source": [
    "import json\n",
    "import os\n",
    "os.getcwd()"
   ]
  },
  {
   "cell_type": "code",
   "execution_count": 2,
   "id": "9a18dfc4-f8ed-427f-a58f-b6214d0d92c1",
   "metadata": {},
   "outputs": [],
   "source": [
    "with open(\"data/agentlans/high-quality-english-sentences.json\", \"r\") as f:\n",
    "    data = json.load(f)"
   ]
  },
  {
   "cell_type": "code",
   "execution_count": 3,
   "id": "07e3e3ed-77ac-40a4-b3c9-e5a48a783a8f",
   "metadata": {},
   "outputs": [
    {
     "data": {
      "text/plain": [
       "{'text': 'soon we dropped into a living forest, where cold-tolerant evergreens and boreal animals still evoke the canadian heritage of an ecosystem pushed south by glaciers 20,000 years ago.',\n",
       " 'phonemes': 'S UW1 N  |  W IY1  |  D R AA1 P T  |  IH0 N T UW1  |  AH0  |  L IH1 V IH0 NG  |  F AO1 R AH0 S T ,  |  W EH1 R  |  K OW0 L T EH0 L T AO1 R N D  |  EH1 V ER0 G R IY2 N Z  |  AH0 N D  |  B ER0 IY1 L  |  AE1 N AH0 M AH0 L Z  |  S T IH1 L  |  IH0 V OW1 K  |  DH AH0  |  K AH0 N EY1 D IY0 AH0 N  |  HH EH1 R AH0 T AH0 JH  |  AH1 V  |  AE1 N  |  IY1 K OW0 S IH2 S T AH0 M  |  P UH1 SH T  |  S AW1 TH  |  B AY1  |  G L EY1 SH ER0 Z  |  T W EH1 N T IY0 TH AW1 Z AH0 N D  |  Y IH1 R Z  |  AH0 G OW1 .'}"
      ]
     },
     "execution_count": 3,
     "metadata": {},
     "output_type": "execute_result"
    }
   ],
   "source": [
    "os.environ[\"CUDA_VISIBLE_DEVICES\"] = \"-1\"\n",
    "data[0]"
   ]
  },
  {
   "cell_type": "code",
   "execution_count": 4,
   "id": "d7d0c1af-96a5-497f-a711-2d7e518c7f35",
   "metadata": {},
   "outputs": [],
   "source": [
    "# === Paths ===\n",
    "base_model_name = \"meta-llama/Llama-2-7b-hf\"   # same as self.model_name in training\n",
    "fine_tuned_dir = \"./outputs/models/Llama-2-7b-hf/checkpoint-31300\"  # your saved dir (self.output_dir)\n"
   ]
  },
  {
   "cell_type": "code",
   "execution_count": 5,
   "id": "b71b3740-21d2-4a25-af9e-bdbeb2e1a6de",
   "metadata": {},
   "outputs": [
    {
     "name": "stderr",
     "output_type": "stream",
     "text": [
      "/home/owaismujtaba/anaconda3/envs/env/lib/python3.10/site-packages/torch/cuda/__init__.py:63: FutureWarning: The pynvml package is deprecated. Please install nvidia-ml-py instead. If you did not install pynvml directly, please report this to the maintainers of the package that installed pynvml for you.\n",
      "  import pynvml  # type: ignore[import]\n",
      "/home/owaismujtaba/anaconda3/envs/env/lib/python3.10/site-packages/tqdm/auto.py:21: TqdmWarning: IProgress not found. Please update jupyter and ipywidgets. See https://ipywidgets.readthedocs.io/en/stable/user_install.html\n",
      "  from .autonotebook import tqdm as notebook_tqdm\n",
      "2025-09-30 11:50:30.848667: I tensorflow/core/util/port.cc:153] oneDNN custom operations are on. You may see slightly different numerical results due to floating-point round-off errors from different computation orders. To turn them off, set the environment variable `TF_ENABLE_ONEDNN_OPTS=0`.\n",
      "2025-09-30 11:50:30.883369: I tensorflow/core/platform/cpu_feature_guard.cc:210] This TensorFlow binary is optimized to use available CPU instructions in performance-critical operations.\n",
      "To enable the following instructions: AVX2 AVX512F AVX512_VNNI AVX512_BF16 FMA, in other operations, rebuild TensorFlow with the appropriate compiler flags.\n",
      "2025-09-30 11:50:31.939272: I tensorflow/core/util/port.cc:153] oneDNN custom operations are on. You may see slightly different numerical results due to floating-point round-off errors from different computation orders. To turn them off, set the environment variable `TF_ENABLE_ONEDNN_OPTS=0`.\n"
     ]
    }
   ],
   "source": [
    "import torch\n",
    "from transformers import AutoModelForCausalLM, AutoTokenizer\n",
    "from peft import PeftModel\n",
    "\n",
    "# Force CPU\n",
    "device = \"cpu\"\n",
    "# Load tokenizer from fine-tuned checkpoint (resized)\n",
    "tokenizer = AutoTokenizer.from_pretrained(fine_tuned_dir)\n"
   ]
  },
  {
   "cell_type": "code",
   "execution_count": 6,
   "id": "3d02663d-888c-492b-835e-7a46920fb1bb",
   "metadata": {},
   "outputs": [
    {
     "name": "stderr",
     "output_type": "stream",
     "text": [
      "`torch_dtype` is deprecated! Use `dtype` instead!\n",
      "Loading checkpoint shards: 100%|██████████████████| 2/2 [00:01<00:00,  1.03it/s]\n",
      "The new embeddings will be initialized from a multivariate normal distribution that has old embeddings' mean and covariance. As described in this article: https://nlp.stanford.edu/~johnhew/vocab-expansion.html. To disable this, use `mean_resizing=False`\n",
      "The new lm_head weights will be initialized from a multivariate normal distribution that has old embeddings' mean and covariance. As described in this article: https://nlp.stanford.edu/~johnhew/vocab-expansion.html. To disable this, use `mean_resizing=False`\n"
     ]
    },
    {
     "data": {
      "text/plain": [
       "Embedding(32013, 4096)"
      ]
     },
     "execution_count": 6,
     "metadata": {},
     "output_type": "execute_result"
    }
   ],
   "source": [
    "\n",
    "# Load base model and **resize embeddings to match tokenizer**\n",
    "base_model = AutoModelForCausalLM.from_pretrained(\n",
    "    base_model_name,\n",
    "    torch_dtype=torch.float32,\n",
    ").to(device)\n",
    "\n",
    "base_model.resize_token_embeddings(len(tokenizer))  # must match LoRA training"
   ]
  },
  {
   "cell_type": "code",
   "execution_count": 7,
   "id": "eac13140-c865-4545-a159-729f5735dafe",
   "metadata": {},
   "outputs": [
    {
     "name": "stderr",
     "output_type": "stream",
     "text": [
      "The 8-bit optimizer is not available on your device, only available on CUDA for now.\n"
     ]
    },
    {
     "data": {
      "text/plain": [
       "LlamaForCausalLM(\n",
       "  (model): LlamaModel(\n",
       "    (embed_tokens): Embedding(32013, 4096)\n",
       "    (layers): ModuleList(\n",
       "      (0-31): 32 x LlamaDecoderLayer(\n",
       "        (self_attn): LlamaAttention(\n",
       "          (q_proj): Linear(in_features=4096, out_features=4096, bias=False)\n",
       "          (k_proj): Linear(in_features=4096, out_features=4096, bias=False)\n",
       "          (v_proj): Linear(in_features=4096, out_features=4096, bias=False)\n",
       "          (o_proj): Linear(in_features=4096, out_features=4096, bias=False)\n",
       "        )\n",
       "        (mlp): LlamaMLP(\n",
       "          (gate_proj): Linear(in_features=4096, out_features=11008, bias=False)\n",
       "          (up_proj): Linear(in_features=4096, out_features=11008, bias=False)\n",
       "          (down_proj): Linear(in_features=11008, out_features=4096, bias=False)\n",
       "          (act_fn): SiLU()\n",
       "        )\n",
       "        (input_layernorm): LlamaRMSNorm((4096,), eps=1e-05)\n",
       "        (post_attention_layernorm): LlamaRMSNorm((4096,), eps=1e-05)\n",
       "      )\n",
       "    )\n",
       "    (norm): LlamaRMSNorm((4096,), eps=1e-05)\n",
       "    (rotary_emb): LlamaRotaryEmbedding()\n",
       "  )\n",
       "  (lm_head): Linear(in_features=4096, out_features=32013, bias=False)\n",
       ")"
      ]
     },
     "execution_count": 7,
     "metadata": {},
     "output_type": "execute_result"
    }
   ],
   "source": [
    "# Load LoRA adapters\n",
    "model = PeftModel.from_pretrained(base_model, fine_tuned_dir).to(device)\n",
    "\n",
    "# Merge LoRA weights into base model\n",
    "model = model.merge_and_unload()  # now a full model with correct embedding size\n",
    "model.eval()"
   ]
  },
  {
   "cell_type": "code",
   "execution_count": 9,
   "id": "34ed90d2-4682-4cff-8da7-940cfebea6fa",
   "metadata": {},
   "outputs": [
    {
     "name": "stdout",
     "output_type": "stream",
     "text": [
      "  1          1          1          0      1      0        1    0          1    0              1          0      0 of  the  and  \n"
     ]
    }
   ],
   "source": [
    "# === Inference ===\n",
    "prompt = \"The phoneme sequence for the word 'hello' is\"\n",
    "inputs = tokenizer(data[0]['phonemes'][:128], return_tensors=\"pt\").to(device)\n",
    "\n",
    "with torch.no_grad():\n",
    "    outputs = model.generate(\n",
    "        **inputs,\n",
    "        max_length=128,\n",
    "        temperature=0.7,\n",
    "        top_p=0.9,\n",
    "        do_sample=True\n",
    "    )\n",
    "\n",
    "print(tokenizer.decode(outputs[0], skip_special_tokens=True))"
   ]
  },
  {
   "cell_type": "code",
   "execution_count": 11,
   "id": "f9be0751-62a9-4f8f-abe7-7b4c7cf9510f",
   "metadata": {},
   "outputs": [],
   "source": [
    "from src.utils import clean_phonemes"
   ]
  },
  {
   "cell_type": "code",
   "execution_count": 13,
   "id": "46756d83-dd12-4943-9ca7-a1435c87a00a",
   "metadata": {},
   "outputs": [
    {
     "data": {
      "text/plain": [
       "('S UW N  |  W IY  |  D R AA P T  |  IH N T UW  |  AH  |  L IH V IH NG  |  F AO R AH S T ,  |  W EH R  |  K OW L T EH L T AO R N D  |  EH V ER G R IY N Z  |  AH N D  |  B ER IY L  |  AE N AH M AH L Z  |  S T IH L  |  IH V OW K  |  DH AH  |  K AH N EY D IY AH N  |  HH EH R AH T AH JH  |  AH V  |  AE N  |  IY K OW S IH S T AH M  |  P UH SH T  |  S AW TH  |  B AY  |  G L EY SH ER Z  |  T W EH N T IY TH AW Z AH N D  |  Y IH R Z  |  AH G OW .',\n",
       " 439)"
      ]
     },
     "execution_count": 13,
     "metadata": {},
     "output_type": "execute_result"
    }
   ],
   "source": [
    "phonemes = clean_phonemes(data[0]['phonemes'])\n",
    "phonemes, len(phonemes)"
   ]
  },
  {
   "cell_type": "code",
   "execution_count": 14,
   "id": "b675cfe7-a64f-4852-8b0a-0a9769e57ceb",
   "metadata": {},
   "outputs": [
    {
     "name": "stdout",
     "output_type": "stream",
     "text": [
      "                                                                                                                to and0 and of 0 a  to   a of the to ( and as   and\n"
     ]
    }
   ],
   "source": [
    "inputs = tokenizer(phonemes[:128], return_tensors=\"pt\").to(device)\n",
    "\n",
    "with torch.no_grad():\n",
    "    outputs = model.generate(\n",
    "        **inputs,\n",
    "        max_length=128,\n",
    "        temperature=0.7,\n",
    "        top_p=0.9,\n",
    "        do_sample=True\n",
    "    )\n",
    "\n",
    "print(tokenizer.decode(outputs[0], skip_special_tokens=True))"
   ]
  },
  {
   "cell_type": "code",
   "execution_count": null,
   "id": "74af8267-1247-44c5-b19f-8c6299fbab81",
   "metadata": {},
   "outputs": [],
   "source": []
  }
 ],
 "metadata": {
  "kernelspec": {
   "display_name": "Python 3 (ipykernel)",
   "language": "python",
   "name": "python3"
  },
  "language_info": {
   "codemirror_mode": {
    "name": "ipython",
    "version": 3
   },
   "file_extension": ".py",
   "mimetype": "text/x-python",
   "name": "python",
   "nbconvert_exporter": "python",
   "pygments_lexer": "ipython3",
   "version": "3.10.18"
  }
 },
 "nbformat": 4,
 "nbformat_minor": 5
}
